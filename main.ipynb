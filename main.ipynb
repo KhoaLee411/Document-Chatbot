{
 "cells": [
  {
   "cell_type": "markdown",
   "id": "dcfd042c",
   "metadata": {},
   "source": [
    "# Question 1: LLM Integration"
   ]
  },
  {
   "cell_type": "code",
   "execution_count": null,
   "id": "7379a42f",
   "metadata": {},
   "outputs": [],
   "source": [
    "pip install google-generativeai python-dotenv\n"
   ]
  },
  {
   "cell_type": "code",
   "execution_count": 84,
   "id": "3863ad1d",
   "metadata": {},
   "outputs": [],
   "source": [
    "import google.generativeai as genai\n",
    "import os\n",
    "import re\n",
    "from dotenv import load_dotenv, find_dotenv\n",
    "\n",
    "\n",
    "load_dotenv(find_dotenv())\n",
    "\n",
    "def get_api_key(key: str) -> str | None:\n",
    "    return os.getenv(key)\n"
   ]
  },
  {
   "cell_type": "code",
   "execution_count": 85,
   "id": "684abc82",
   "metadata": {},
   "outputs": [],
   "source": [
    "OPENAI_API_KEY = get_api_key(\"OPEN_AI_API_KEY\")\n",
    "GEMINI_API_KEY = get_api_key(\"GEMINI_API_KEY\")\n"
   ]
  },
  {
   "cell_type": "code",
   "execution_count": 63,
   "id": "ca31e185",
   "metadata": {},
   "outputs": [],
   "source": [
    "import nest_asyncio\n",
    "nest_asyncio.apply()"
   ]
  },
  {
   "cell_type": "markdown",
   "id": "29fc17c4",
   "metadata": {},
   "source": [
    "## 1.1 Single Text Translation: \n",
    "You are asked to write a Python code using the OpenAI API to translate a given text into\n",
    "Vietnamese. (You should check the text if it’s already the destination language).\n",
    "\n",
    "\n",
    "For example, translating \"Hello\" into Vietnamese should return \"Xin chào\", but “Xin chào”\n",
    "should return the same."
   ]
  },
  {
   "cell_type": "code",
   "execution_count": 64,
   "id": "db60fba7",
   "metadata": {},
   "outputs": [],
   "source": [
    "def is_vietnamese(text):\n",
    "    vietnamese_chars = (\n",
    "    r'[àáảãạăằắẳẵặâầấẩẫậđèéẻẽẹêềếểễệìíỉĩị'\n",
    "    r'òóỏõọôồốổỗộơờớởỡợùúủũụưừứửữựỳýỷỹỵ]'\n",
    "    )\n",
    "\n",
    "    return bool(re.search(vietnamese_chars, text))"
   ]
  },
  {
   "cell_type": "code",
   "execution_count": 65,
   "id": "ea27c424",
   "metadata": {},
   "outputs": [],
   "source": [
    "import google.generativeai as genai\n",
    "genai.configure(api_key = GEMINI_API_KEY)\n",
    "\n",
    "model = genai.GenerativeModel('gemini-1.5-flash')\n",
    "\n",
    "def translate_single_gemini(json_input):\n",
    "    text = json_input['text']\n",
    "    dest_language = json_input['dest_language']\n",
    "    \n",
    "    # Nếu văn bản đã là tiếng Việt, trả về luôn\n",
    "    if is_vietnamese(text):\n",
    "        return text\n",
    "    try:\n",
    "        # Tạo prompt dịch thuật\n",
    "        prompt = f\"Translate the following text into {dest_language} language: '{text}'\"\n",
    "\n",
    "        response = model.generate_content(prompt)\n",
    "        return response.text.strip()\n",
    "    except Exception as e:\n",
    "        print(f\"Error during translation with Gemini: {e}\")\n",
    "    return None"
   ]
  },
  {
   "cell_type": "markdown",
   "id": "033d5ad0",
   "metadata": {},
   "source": [
    "## 1.2 Multiple Texts Translation: \n",
    "Similar to 1.1, but the input is a list of texts. The Python code should accept a list of strings and\n",
    "return their translations in the specified language. For instance, translating [\"Hello\", \"I am\n",
    "John\", “Tôi là sinh viên”] into Vietnamese should return [\"Xin chào\", \"Tôi tên là John\", “Tôi là\n",
    "sinh viên”]"
   ]
  },
  {
   "cell_type": "code",
   "execution_count": 66,
   "id": "7b016841",
   "metadata": {},
   "outputs": [],
   "source": [
    "def translate_multiple_gemini(json_input):\n",
    "    texts = json_input['text']\n",
    "    dest_language = json_input['dest_language']\n",
    "\n",
    "    # Đảm bảo đầu vào là danh sách\n",
    "    if isinstance(texts, str):\n",
    "        texts = [texts]\n",
    "        \n",
    "    translations = []\n",
    "    for text in texts:\n",
    "        try:\n",
    "            # Tạo JSON đầu vào cho từng văn bản\n",
    "            single_json = {\"text\": text, \"dest_language\": dest_language}\n",
    "            translation = translate_single_gemini(single_json)\n",
    "            translations.append(translation)\n",
    "        except Exception as e:\n",
    "            print(f\"Error translating text '{text}': {e}\")\n",
    "            translations.append(None)\n",
    "    return translations"
   ]
  },
  {
   "cell_type": "code",
   "execution_count": 67,
   "id": "f7c27a83",
   "metadata": {},
   "outputs": [],
   "source": [
    "def main():\n",
    "    json_1 = {\n",
    "        \"text\": \"Hello\",\n",
    "        \"dest_language\": \"Vietnamese\"\n",
    "    }\n",
    "    json_2 = {\n",
    "        \"text\": \"Xin chào\",\n",
    "        \"dest_language\": \"Vietnamese\"\n",
    "    }\n",
    "\n",
    "    json_3 = {\n",
    "        \"text\": \"Tôi tên Nam\",\n",
    "        \"dest_language\": \"Vietnamese\"\n",
    "    }\n",
    "    json_4 = {\n",
    "        \"text\": [\"Hello\", \"I am John\", \"Tôi là sinh viên\"],\n",
    "        \"dest_language\": \"Vietnamese\"\n",
    "    }\n",
    "    # Kiểm tra hàm\n",
    "    print(translate_single_gemini(json_1))\n",
    "    print(translate_single_gemini(json_2))\n",
    "    print(translate_single_gemini(json_3))\n",
    "    print(translate_multiple_gemini(json_4))"
   ]
  },
  {
   "cell_type": "code",
   "execution_count": 68,
   "id": "7a5856c0",
   "metadata": {},
   "outputs": [
    {
     "name": "stdout",
     "output_type": "stream",
     "text": [
      "Xin chào\n",
      "Xin chào\n",
      "Tôi tên Nam\n",
      "['Xin chào', 'Tôi là John.', 'Tôi là sinh viên']\n"
     ]
    }
   ],
   "source": [
    "if __name__ == '__main__':\n",
    "    main()"
   ]
  },
  {
   "cell_type": "markdown",
   "id": "b5a87b75",
   "metadata": {},
   "source": [
    "# Question 2: Chatbot Development\n",
    "Assignment Test: Chatbot Development from Website Data. The data is at\n",
    "https://www.presight.io/privacy-policy.html"
   ]
  },
  {
   "cell_type": "markdown",
   "id": "0a386c47",
   "metadata": {},
   "source": [
    "## 2.1 Data Access and Indexing \n",
    "Tasked with creating a chatbot, begin by web crawling the specified website to gather relevant\n",
    "data, then preprocess and structure this data into a searchable index, ready for query retrieval.\n",
    "(Short version: crawling then embedding data, you can use selenium or\n",
    "requests)"
   ]
  },
  {
   "cell_type": "code",
   "execution_count": null,
   "id": "ad4b3e07",
   "metadata": {},
   "outputs": [],
   "source": [
    "pip install selenium beautifulsoup4 requests webdriver-manager\n"
   ]
  },
  {
   "cell_type": "code",
   "execution_count": 171,
   "id": "4e5fc590",
   "metadata": {},
   "outputs": [],
   "source": [
    "from selenium import webdriver\n",
    "from selenium.webdriver.chrome.options import Options\n",
    "from selenium.webdriver.chrome.service import Service \n",
    "from selenium.common.exceptions import NoSuchElementException\n",
    "import requests\n",
    "from bs4 import BeautifulSoup\n",
    "from webdriver_manager.chrome import ChromeDriverManager"
   ]
  },
  {
   "cell_type": "code",
   "execution_count": 15,
   "id": "8df1ecb5",
   "metadata": {},
   "outputs": [],
   "source": [
    "main_link = 'https://www.presight.io/privacy-policy.html'\n",
    "\n",
    "chrome_options = Options()\n",
    "chrome_options.add_argument('--no-sandbox')\n",
    "chrome_options.add_argument('--disable-notifications')\n",
    "chrome_options.add_argument('--disable-infobars')\n",
    "\n",
    "service = Service(ChromeDriverManager().install())\n",
    "driver = webdriver.Chrome(service=service, options=chrome_options)\n",
    "driver.get(main_link)"
   ]
  },
  {
   "cell_type": "code",
   "execution_count": 16,
   "id": "80f09433",
   "metadata": {},
   "outputs": [],
   "source": [
    "html = driver.page_source\n",
    "soup = BeautifulSoup(html, 'html.parser')"
   ]
  },
  {
   "cell_type": "code",
   "execution_count": 17,
   "id": "3026249c",
   "metadata": {},
   "outputs": [],
   "source": [
    "data = []"
   ]
  },
  {
   "cell_type": "code",
   "execution_count": 18,
   "id": "8ffa7a33",
   "metadata": {},
   "outputs": [
    {
     "name": "stdout",
     "output_type": "stream",
     "text": [
      "Presight | AI-powered data platform for business teams\n"
     ]
    }
   ],
   "source": [
    "title = soup.title.get_text()\n",
    "print(title)\n",
    "data.append(title)"
   ]
  },
  {
   "cell_type": "code",
   "execution_count": 19,
   "id": "9909998a",
   "metadata": {},
   "outputs": [
    {
     "name": "stdout",
     "output_type": "stream",
     "text": [
      "PRIVACY POLICY\n"
     ]
    }
   ],
   "source": [
    "head_above = soup.find(\"div\", {'class': \"chakra-stack css-1uji4px\"}) \\\n",
    "                .find(\"h2\", {'class': \"chakra-heading css-dhb2ck\"})\n",
    "if head_above:\n",
    "    head_above_text = head_above.get_text()\n",
    "    print(head_above_text)\n",
    "    data.append(head_above_text)"
   ]
  },
  {
   "cell_type": "code",
   "execution_count": 20,
   "id": "10f1e6d3",
   "metadata": {},
   "outputs": [
    {
     "name": "stdout",
     "output_type": "stream",
     "text": [
      "Last updated 15 Sep 2023\n"
     ]
    }
   ],
   "source": [
    "head_below = soup.find(\"div\", {'class': \"chakra-stack css-1uji4px\"}) \\\n",
    " .find(\"h2\", {'class': \"chakra-heading css-18j379d\"})\n",
    "if head_below:\n",
    "    head_below_text = head_below.get_text()\n",
    "    print(head_below_text)\n",
    "    data.append(head_below_text)"
   ]
  },
  {
   "cell_type": "code",
   "execution_count": 21,
   "id": "22026c26",
   "metadata": {},
   "outputs": [
    {
     "name": "stdout",
     "output_type": "stream",
     "text": [
      "At Presight, we are committed to protecting the privacy of our customers and visitors to our website. This Privacy Policy explains how we collect, use, and disclose information about our customers and visitors.\n"
     ]
    }
   ],
   "source": [
    "content_head = soup.find(\"div\", {'class': \"chakra-stack css-lcbvq9\"}) \\\n",
    " .find(\"p\", {\"class\": \"chakra-text css-0\"})\n",
    "if content_head:\n",
    "    content_head_text = content_head.get_text()\n",
    "    print(content_head_text)\n",
    "    data.append(content_head_text)"
   ]
  },
  {
   "cell_type": "code",
   "execution_count": 22,
   "id": "45b58ff9",
   "metadata": {},
   "outputs": [
    {
     "name": "stdout",
     "output_type": "stream",
     "text": [
      "Information Collection and Use\n",
      "We collect several different types of information for various purposes to provide and improve our Service to you.\n"
     ]
    }
   ],
   "source": [
    "current_01 = soup.find(\"div\", {'class': \"chakra-stack css-o5l3sd\"})\n",
    "heading = current_01.find(\"h2\", {'class': \"chakra-heading css-18j379d\"})    \n",
    "\n",
    "heading_text = heading.get_text(strip=True)\n",
    "print(heading_text)\n",
    "data.append(heading_text)\n",
    "p = heading.find_next(\"p\")\n",
    "p_text = p.get_text(strip=True)\n",
    "print(p_text)\n",
    "data.append(p_text)"
   ]
  },
  {
   "cell_type": "code",
   "execution_count": 23,
   "id": "2b191985",
   "metadata": {},
   "outputs": [
    {
     "name": "stdout",
     "output_type": "stream",
     "text": [
      "Types of Data Collected\n",
      "Personal Data\n",
      "While using our Service, we may ask you to provide us with certain personally identifiable information that can be used to contact or identify you (\"Personal Data\"). Personally identifiable information may include, but is not limited to:\n",
      "Email address\n",
      "First name and last name\n",
      "Phone number\n",
      "Address, State, Province, ZIP/Postal code, City\n",
      "Cookies and Usage Data\n",
      "Usage Data\n",
      "We may also collect information that your browser sends whenever you visit our Service or when you access the Service by or through a mobile device (\"Usage Data\"). This Usage Data may include information such as your computer's Internet Protocol address (e.g. IP address), browser type, browser version, the pages of our Service that you visit, the time and date of your visit, the time spent on those pages, unique device identifiers, and other diagnostic data.\n"
     ]
    }
   ],
   "source": [
    "current_02 = current_01.find_next_sibling(\"div\",{'class':\"chakra-stack css-o5l3sd\"})\n",
    "\n",
    "heading = current_02.find(\"h2\", {'class': \"chakra-heading css-18j379d\"})\n",
    "heading_text = heading.get_text(strip=True)\n",
    "print(heading_text)\n",
    "data.append(heading_text)\n",
    "\n",
    "tag = current_02.find(\"div\", {'class': \"chakra-stack css-bel3sh\"})\n",
    "child_01 = tag.find(\"div\", {'class': \"css-0\"})\n",
    "if child_01:\n",
    "    i = child_01.find(\"i\")\n",
    "    i_text = i.get_text(strip=True)\n",
    "    print(i_text)\n",
    "    data.append(i_text)\n",
    "    p = child_01.find_next(\"p\")\n",
    "    p_text = p.get_text(strip=True)\n",
    "    print(p_text)\n",
    "    data.append(p_text)\n",
    "\n",
    "    ul = child_01.find(\"ul\")\n",
    "    for item in ul.find_all(\"li\"):\n",
    "        item_text = item.get_text(strip=True)\n",
    "        print(item_text)\n",
    "        data.append(item_text)\n",
    "\n",
    "\n",
    "child_02 = child_01.find_next_sibling(\"div\", {'class': \"css-0\"})\n",
    "if child_02:\n",
    "    i = child_02.find(\"i\")\n",
    "    i_text = i.get_text(strip=True)\n",
    "    print(i_text)\n",
    "    data.append(i_text)\n",
    "    p = child_02.find_next(\"p\")\n",
    "    p_text = p.get_text(strip=True)\n",
    "    print(p_text)\n",
    "    data.append(p_text)"
   ]
  },
  {
   "cell_type": "code",
   "execution_count": 24,
   "id": "5f521104",
   "metadata": {},
   "outputs": [
    {
     "name": "stdout",
     "output_type": "stream",
     "text": [
      "Use of Data\n",
      "Presight uses the collected data for various purposes:\n",
      "To provide and maintain our Service\n",
      "To notify you about changes to our Service\n",
      "To allow you to participate in interactive features of our Service when you choose to do so\n",
      "To provide customer support\n",
      "To gather analysis or valuable information so that we can improve our Service\n",
      "To monitor the usage of our Service\n",
      "To detect, prevent and address technical issues\n"
     ]
    }
   ],
   "source": [
    "current_03 = current_02.find_next_sibling(\"div\",{'class':\"chakra-stack css-o5l3sd\"})\n",
    "\n",
    "heading = current_03.find(\"h2\", {'class': \"chakra-heading css-18j379d\"})\n",
    "heading_text = heading.get_text(strip=True)\n",
    "print(heading_text)\n",
    "data.append(heading_text)\n",
    "\n",
    "p = current_03.find_next(\"p\")\n",
    "p_text = p.get_text(strip=True)\n",
    "print(p_text)\n",
    "data.append(p_text)\n",
    "ul = current_03.find(\"ul\")\n",
    "for item in ul.find_all(\"li\"):\n",
    "    item_text = item.get_text(strip=True)\n",
    "    print(item_text)\n",
    "    data.append(item_text)"
   ]
  },
  {
   "cell_type": "code",
   "execution_count": 25,
   "id": "1acdedc7",
   "metadata": {},
   "outputs": [
    {
     "name": "stdout",
     "output_type": "stream",
     "text": [
      "Consent\n",
      "As personal information is collected, you will be asked to confirm that your information is correct prior to submitting it to Presight.\n"
     ]
    }
   ],
   "source": [
    "current_04 = current_03.find_next_sibling(\"div\",{'class':\"chakra-stack css-o5l3sd\"})\n",
    "\n",
    "heading = current_04.find(\"h2\", {'class': \"chakra-heading css-18j379d\"})\n",
    "heading_text = heading.get_text(strip=True)\n",
    "print(heading_text)\n",
    "data.append(heading_text)\n",
    "\n",
    "p = current_04.find_next(\"p\")\n",
    "p_text = p.get_text(strip=True)\n",
    "print(p_text)\n",
    "data.append(p_text)"
   ]
  },
  {
   "cell_type": "code",
   "execution_count": 26,
   "id": "587f9887",
   "metadata": {},
   "outputs": [
    {
     "name": "stdout",
     "output_type": "stream",
     "text": [
      "Access to Personal Information\n",
      "Accessing Your Personal Information\n",
      "You have the right to access all of your personal information that we hold. Through the application, you can correct, amend, or append your personal information by logging into the application and navigating to your settings and profile.\n",
      "Automated Edit Checks\n",
      "Presight employs automated edit checks to ensure that data entry fields are completed properly when collecting personal information. These edit checks help maintain data integrity and accuracy. You are encouraged to provide complete and valid information to ensure the smooth processing of their personal data.\n"
     ]
    }
   ],
   "source": [
    "current_05 = current_04.find_next_sibling(\"div\",{'class':\"chakra-stack css-o5l3sd\"})\n",
    "\n",
    "heading = current_05.find(\"h2\", {'class': \"chakra-heading css-18j379d\"})\n",
    "heading_text = heading.get_text(strip=True)\n",
    "print(heading_text)\n",
    "data.append(heading_text)\n",
    "\n",
    "h2_01 = heading.find_next('h2')\n",
    "h2_01_text = h2_01.get_text(strip=True)\n",
    "print(h2_01_text)\n",
    "data.append(h2_01_text)\n",
    "\n",
    "p_01 = heading.find_next('p')\n",
    "p_01_text = p_01.get_text(strip=True)\n",
    "print(p_01_text)\n",
    "data.append(p_01_text)\n",
    "\n",
    "h2_02 = h2_01.find_next('h2')\n",
    "h2_02_text = h2_02.get_text(strip=True)\n",
    "print(h2_02_text)\n",
    "data.append(h2_02_text)\n",
    "\n",
    "p_02 = p_01.find_next('p')\n",
    "p_02_text = p_02.get_text(strip=True)\n",
    "print(p_02_text)\n",
    "data.append(p_02_text)"
   ]
  },
  {
   "cell_type": "code",
   "execution_count": 27,
   "id": "3169e839",
   "metadata": {},
   "outputs": [
    {
     "name": "stdout",
     "output_type": "stream",
     "text": [
      "Disclosure of Information\n",
      "We may disclose your application data to third-party service providers who help us provide our services such as Datadog, AWS, Google Cloud and Google Workspace. We may also disclose your information in response to a legal request, such as a subpoena or court order, or to protect our rights or the rights of others.\n"
     ]
    }
   ],
   "source": [
    "current_06 = current_05.find_next_sibling(\"div\",{'class':\"chakra-stack css-o5l3sd\"})\n",
    "\n",
    "heading = current_06.find(\"h2\", {'class': \"chakra-heading css-18j379d\"})\n",
    "heading_text = heading.get_text(strip=True)\n",
    "print(heading_text)\n",
    "data.append(heading_text)\n",
    "\n",
    "p = current_06.find_next(\"p\")\n",
    "p_text = p.get_text(strip=True)\n",
    "print(p_text)\n",
    "data.append(p_text)"
   ]
  },
  {
   "cell_type": "code",
   "execution_count": 28,
   "id": "04a8033f",
   "metadata": {},
   "outputs": [
    {
     "name": "stdout",
     "output_type": "stream",
     "text": [
      "Sharing of Personal Data\n",
      "Your personal data will not be subject to sharing, transfer, rental or exchange for the benefit of third parties, including AI models.\n"
     ]
    }
   ],
   "source": [
    "current_07 = current_06.find_next_sibling(\"div\",{'class':\"chakra-stack css-o5l3sd\"})\n",
    "\n",
    "heading = current_07.find(\"h2\", {'class': \"chakra-heading css-18j379d\"})\n",
    "heading_text = heading.get_text(strip=True)\n",
    "print(heading_text)\n",
    "data.append(heading_text)\n",
    "\n",
    "p = current_07.find_next(\"p\")\n",
    "p_text = p.get_text(strip=True)\n",
    "print(p_text)\n",
    "data.append(p_text)"
   ]
  },
  {
   "cell_type": "code",
   "execution_count": 30,
   "id": "70017ee8",
   "metadata": {},
   "outputs": [
    {
     "name": "stdout",
     "output_type": "stream",
     "text": [
      "Google User Data and Google Workspace APIs\n",
      "In all cases when users authenticate the platform to Google Workspace, the following applies:\n",
      "We do not retain or use Google User Data to develop, improve, or train generalized/non-personalized AI and/or ML models.\n",
      "We do not use Google Workspace APIs to develop, improve, or train generalized/non-personalized AI and/or ML models.\n",
      "We do not transfer Google User Data to third-party AI tools for the purpose of developing, improving, or training generalized or non-personalized AI and/or ML models.\n"
     ]
    }
   ],
   "source": [
    "current_08 = current_07.find_next_sibling(\"div\",{'class':\"chakra-stack css-o5l3sd\"})\n",
    "\n",
    "heading = current_08.find(\"h2\", {'class': \"chakra-heading css-18j379d\"})\n",
    "heading_text = heading.get_text(strip=True)\n",
    "print(heading_text)\n",
    "data.append(heading_text)\n",
    "\n",
    "p = current_08.find_next(\"p\")\n",
    "p_text = p.get_text(strip=True)\n",
    "print(p_text)\n",
    "data.append(p_text)\n",
    "\n",
    "ul = current_08.find(\"ul\")\n",
    "for item in ul.find_all(\"li\"):\n",
    " item_text = item.get_text(strip=True)\n",
    " print(item_text)\n",
    " data.append(item_text)"
   ]
  },
  {
   "cell_type": "code",
   "execution_count": 31,
   "id": "f06715bd",
   "metadata": {},
   "outputs": [
    {
     "name": "stdout",
     "output_type": "stream",
     "text": [
      "Data Security\n",
      "All data is encrypted both in transit and at rest, using industry-standard encryption methods.\n",
      "We regularly perform security audits and vulnerability assessments to ensure the safety of our platform and the data stored within it.\n",
      "Our employees are trained on best practices for data security, and access to customer data is restricted on a need-to-know basis.\n"
     ]
    }
   ],
   "source": [
    "current_09 = current_08.find_next_sibling(\"div\",{'class':\"chakra-stack css-o5l3sd\"})\n",
    "\n",
    "heading = current_09.find(\"h2\", {'class': \"chakra-heading css-18j379d\"})\n",
    "heading_text = heading.get_text(strip=True)\n",
    "print(heading_text)\n",
    "data.append(heading_text)\n",
    "\n",
    "ul = current_09.find(\"ul\")\n",
    "for item in ul.find_all(\"li\"):\n",
    "    item_text = item.get_text(strip=True)\n",
    "    print(item_text)\n",
    "    data.append(item_text)"
   ]
  },
  {
   "cell_type": "code",
   "execution_count": 32,
   "id": "d6c206dc",
   "metadata": {},
   "outputs": [
    {
     "name": "stdout",
     "output_type": "stream",
     "text": [
      "Data Retention & Disposal\n",
      "Customer data is retained for as long as the account is in active status. Data enters an “expired” state when the account is voluntarily closed. Expired account data will be retained for 60 days. After this period, the account and related data will be removed.\n"
     ]
    }
   ],
   "source": [
    "current_10 = current_09.find_next_sibling(\"div\",{'class':\"chakra-stack css-o5l3sd\"})\n",
    "\n",
    "heading = current_10.find(\"h2\", {'class': \"chakra-heading css-18j379d\"})\n",
    "heading_text = heading.get_text(strip=True)\n",
    "print(heading_text)\n",
    "data.append(heading_text)\n",
    "\n",
    "p = current_10.find_next(\"p\")\n",
    "p_text = p.get_text(strip=True)\n",
    "print(p_text)\n",
    "data.append(p_text)"
   ]
  },
  {
   "cell_type": "code",
   "execution_count": 33,
   "id": "51d65522",
   "metadata": {},
   "outputs": [
    {
     "name": "stdout",
     "output_type": "stream",
     "text": [
      "Quality, Including Data Subjects' Responsibilities for Quality\n",
      "We are committed to maintaining the quality and accuracy of the personal information we collect and process.\n",
      "We rely on data subjects to provide accurate and up-to-date information.\n",
      "Data subjects have the responsibility to inform us of any changes or inaccuracies in their personal data.\n",
      "If you believe that any information we hold about you is inaccurate, incomplete, or outdated, please contact us promptly to rectify the information.\n"
     ]
    }
   ],
   "source": [
    "current_11 = current_10.find_next_sibling(\"div\",{'class':\"chakra-stack css-o5l3sd\"})\n",
    "\n",
    "heading = current_11.find(\"h2\", {'class': \"chakra-heading css-18j379d\"})\n",
    "heading_text = heading.get_text(strip=True)\n",
    "print(heading_text)\n",
    "data.append(heading_text)\n",
    "ul = current_11.find(\"ul\")\n",
    "\n",
    "for item in ul.find_all(\"li\"):\n",
    "    item_text = item.get_text(strip=True)\n",
    "    print(item_text)\n",
    "    data.append(item_text)"
   ]
  },
  {
   "cell_type": "code",
   "execution_count": 34,
   "id": "da4b8dd5",
   "metadata": {},
   "outputs": [
    {
     "name": "stdout",
     "output_type": "stream",
     "text": [
      "Monitoring and Enforcement\n",
      "We regularly monitor its data processing activities to ensure compliance with this privacy policy and applicable data protection laws.\n",
      "In the event of a data breach or any unauthorized access to your personal information, we will notify you and the appropriate authorities as required by law.\n",
      "We committed to cooperating with data protection authorities and complying with their advice and decisions regarding data protection and privacy matters.\n"
     ]
    }
   ],
   "source": [
    "current_12 = current_11.find_next_sibling(\"div\",{'class':\"chakra-stack css-o5l3sd\"})\n",
    "heading = current_12.find(\"h2\", {'class': \"chakra-heading css-18j379d\"})\n",
    "heading_text = heading.get_text(strip=True)\n",
    "print(heading_text)\n",
    "data.append(heading_text)\n",
    "ul = current_12.find(\"ul\")\n",
    "for item in ul.find_all(\"li\"):\n",
    "    item_text = item.get_text(strip=True)\n",
    "    print(item_text)\n",
    "    data.append(item_text)"
   ]
  },
  {
   "cell_type": "code",
   "execution_count": 35,
   "id": "393cc8b2",
   "metadata": {},
   "outputs": [
    {
     "name": "stdout",
     "output_type": "stream",
     "text": [
      "Cookies\n",
      "We use cookies to enhance your experience on our website. You can control the use of cookies through your web browser settings.\n"
     ]
    }
   ],
   "source": [
    "current_13 = current_12.find_next_sibling(\"div\",{'class':\"chakra-stack css-o5l3sd\"})\n",
    "\n",
    "heading = current_13.find(\"h2\", {'class': \"chakra-heading css-18j379d\"})\n",
    "heading_text = heading.get_text(strip=True)\n",
    "print(heading_text)\n",
    "data.append(heading_text)\n",
    "\n",
    "p = current_13.find_next(\"p\")\n",
    "p_text = p.get_text(strip=True)\n",
    "print(p_text)\n",
    "data.append(p_text)"
   ]
  },
  {
   "cell_type": "code",
   "execution_count": 36,
   "id": "bfcbfe84",
   "metadata": {},
   "outputs": [
    {
     "name": "stdout",
     "output_type": "stream",
     "text": [
      "Third-Party Websites\n",
      "Our website may contain links to third-party websites. We are not responsible for the privacy practices or content of those websites.\n"
     ]
    }
   ],
   "source": [
    "current_14 = current_13.find_next_sibling(\"div\",{'class':\"chakra-stack css-o5l3sd\"})\n",
    "\n",
    "heading = current_14.find(\"h2\", {'class': \"chakra-heading css-18j379d\"})\n",
    "heading_text = heading.get_text(strip=True)\n",
    "print(heading_text)\n",
    "data.append(heading_text)\n",
    "\n",
    "p = current_14.find_next(\"p\")\n",
    "p_text = p.get_text(strip=True)\n",
    "print(p_text)\n",
    "data.append(p_text) "
   ]
  },
  {
   "cell_type": "code",
   "execution_count": 37,
   "id": "700dd5d0",
   "metadata": {},
   "outputs": [
    {
     "name": "stdout",
     "output_type": "stream",
     "text": [
      "Changes to Privacy Policy\n",
      "We may update this Privacy Policy from time to time. The updated Privacy Policy will be posted on our website.\n"
     ]
    }
   ],
   "source": [
    "current_15 = current_14.find_next_sibling(\"div\",{'class':\"chakra-stack css-o5l3sd\"})\n",
    "\n",
    "heading = current_15.find(\"h2\", {'class': \"chakra-heading css-18j379d\"})\n",
    "heading_text = heading.get_text(strip=True)\n",
    "print(heading_text)\n",
    "data.append(heading_text)\n",
    "\n",
    "p = current_15.find_next(\"p\")\n",
    "p_text = p.get_text(strip=True)\n",
    "print(p_text)\n",
    "data.append(p_text)"
   ]
  },
  {
   "cell_type": "code",
   "execution_count": 38,
   "id": "ad6c140e",
   "metadata": {},
   "outputs": [
    {
     "name": "stdout",
     "output_type": "stream",
     "text": [
      "Contact Us\n",
      "If you have any questions about this Privacy Policy, please contact us through the customer portal or by email atpresight@presight.io.\n"
     ]
    }
   ],
   "source": [
    "current_16 = current_15.find_next_sibling(\"div\",{'class':\"chakra-stack css-o5l3sd\"})\n",
    "heading = current_16.find(\"h2\", {'class': \"chakra-heading css-18j379d\"})\n",
    "heading_text = heading.get_text(strip=True)\n",
    "print(heading_text)\n",
    "\n",
    "data.append(heading_text)\n",
    "p = current_16.find_next(\"p\")\n",
    "p_text = p.get_text(strip=True)\n",
    "print(p_text)\n",
    "data.append(p_text)"
   ]
  },
  {
   "cell_type": "code",
   "execution_count": 39,
   "id": "7a3d5a33",
   "metadata": {},
   "outputs": [
    {
     "name": "stdout",
     "output_type": "stream",
     "text": [
      "Purposeful Use Only\n",
      "We commit to only use personal information for the purposes identified in the entity's privacy policy.\n"
     ]
    }
   ],
   "source": [
    "current_17 = current_16.find_next_sibling(\"div\",{'class':\"chakra-stack css-o5l3sd\"})\n",
    "heading = current_17.find(\"h2\", {'class': \"chakra-heading css-18j379d\"})\n",
    "heading_text = heading.get_text(strip=True)\n",
    "print(heading_text)\n",
    "data.append(heading_text)\n",
    "p = current_17.find_next(\"p\")\n",
    "p_text = p.get_text(strip=True)\n",
    "print(p_text)\n",
    "data.append(p_text)"
   ]
  },
  {
   "cell_type": "code",
   "execution_count": null,
   "id": "b96f9135",
   "metadata": {},
   "outputs": [],
   "source": [
    "pip install numpy pandas"
   ]
  },
  {
   "cell_type": "code",
   "execution_count": 42,
   "id": "417441f1",
   "metadata": {},
   "outputs": [
    {
     "data": {
      "text/html": [
       "<div>\n",
       "<style scoped>\n",
       "    .dataframe tbody tr th:only-of-type {\n",
       "        vertical-align: middle;\n",
       "    }\n",
       "\n",
       "    .dataframe tbody tr th {\n",
       "        vertical-align: top;\n",
       "    }\n",
       "\n",
       "    .dataframe thead th {\n",
       "        text-align: right;\n",
       "    }\n",
       "</style>\n",
       "<table border=\"1\" class=\"dataframe\">\n",
       "  <thead>\n",
       "    <tr style=\"text-align: right;\">\n",
       "      <th></th>\n",
       "      <th>Content</th>\n",
       "    </tr>\n",
       "  </thead>\n",
       "  <tbody>\n",
       "    <tr>\n",
       "      <th>0</th>\n",
       "      <td>Presight | AI-powered data platform for busine...</td>\n",
       "    </tr>\n",
       "    <tr>\n",
       "      <th>1</th>\n",
       "      <td>PRIVACY POLICY</td>\n",
       "    </tr>\n",
       "    <tr>\n",
       "      <th>2</th>\n",
       "      <td>Last updated 15 Sep 2023</td>\n",
       "    </tr>\n",
       "    <tr>\n",
       "      <th>3</th>\n",
       "      <td>At Presight, we are committed to protecting th...</td>\n",
       "    </tr>\n",
       "    <tr>\n",
       "      <th>4</th>\n",
       "      <td>Information Collection and Use</td>\n",
       "    </tr>\n",
       "  </tbody>\n",
       "</table>\n",
       "</div>"
      ],
      "text/plain": [
       "                                             Content\n",
       "0  Presight | AI-powered data platform for busine...\n",
       "1                                     PRIVACY POLICY\n",
       "2                           Last updated 15 Sep 2023\n",
       "3  At Presight, we are committed to protecting th...\n",
       "4                     Information Collection and Use"
      ]
     },
     "execution_count": 42,
     "metadata": {},
     "output_type": "execute_result"
    }
   ],
   "source": [
    "import pandas as pd\n",
    "import numpy as np\n",
    "df = pd.DataFrame(data, columns=[\"Content\"])\n",
    "df.head()"
   ]
  },
  {
   "cell_type": "code",
   "execution_count": 43,
   "id": "11c084c1",
   "metadata": {},
   "outputs": [],
   "source": [
    "df.to_csv('dataset.csv', index=False, encoding='utf-8')"
   ]
  },
  {
   "cell_type": "markdown",
   "id": "53b3f94a",
   "metadata": {},
   "source": [
    "## 2.2 Chatbot Development \n",
    "Develop a chatbot that employs natural language processing to comprehend user questions,\n",
    "searches the indexed data from 2.1 for the best match, and delivers the most accurate\n",
    "response drawn from the website's information. (Use any distance/similarity metrics\n",
    "to get the best match paragraph then feed to LLM to get answer)"
   ]
  },
  {
   "cell_type": "code",
   "execution_count": null,
   "id": "74d560aa",
   "metadata": {},
   "outputs": [],
   "source": [
    "pip install llama-index\n"
   ]
  },
  {
   "cell_type": "code",
   "execution_count": 86,
   "id": "91bcccac",
   "metadata": {},
   "outputs": [],
   "source": [
    "from llama_index.core import SimpleDirectoryReader\n",
    "from llama_index.core.node_parser import SentenceSplitter\n",
    "from llama_index.llms.openai import OpenAI\n",
    "from llama_index.embeddings.openai import OpenAIEmbedding\n",
    "from llama_index.core import SummaryIndex, VectorStoreIndex\n",
    "from llama_index.core.tools import QueryEngineTool\n",
    "from llama_index.core.query_engine.router_query_engine import RouterQueryEngine\n",
    "from llama_index.core.selectors import LLMSingleSelector\n",
    "from llama_index.core.vector_stores import FilterCondition\n",
    "from llama_index.core.vector_stores import MetadataFilters\n",
    "from llama_index.core.tools import FunctionTool\n",
    "import time\n",
    "from typing import List\n",
    "llm = OpenAI(model=\"gpt-3.5-turbo\", api_key=OPENAI_API_KEY)\n",
    "embed_model = OpenAIEmbedding(model=\"text-embedding-ada-002\")"
   ]
  },
  {
   "cell_type": "markdown",
   "id": "e1361d73",
   "metadata": {},
   "source": [
    "### Define Router Query Engine"
   ]
  },
  {
   "cell_type": "code",
   "execution_count": 87,
   "id": "35a316c0",
   "metadata": {},
   "outputs": [],
   "source": [
    "def get_router_query_engine(file_path: str, llm = None, embed_model = None):\n",
    "    \"\"\"Get router query engine.\"\"\"\n",
    "    # Bắt đầu đo thời gian\n",
    "    start_time = time.time()\n",
    "\n",
    "    # Load documents\n",
    "    documents = SimpleDirectoryReader(input_files=[file_path]).load_data()\n",
    "\n",
    "    splitter = SentenceSplitter(chunk_size=512)\n",
    "    nodes = splitter.get_nodes_from_documents(documents)\n",
    "\n",
    "    summary_index = SummaryIndex(nodes, llm=llm)\n",
    "    # SummaryIndex sử dụng mô hình ngôn ngữ để đọc qua nội dung của các nodes,\n",
    "    # tạo ra các bản tóm tắt.\n",
    "    # Khi có một truy vấn, nó sẽ dựa vào thông tin tóm tắt để trả lời câu hỏi\n",
    "    # hoặc cung cấp nội dung cô đọng\n",
    "    vector_index = VectorStoreIndex(nodes, embed_model=embed_model)\n",
    "    # Sử dụng một mô hình nhúng để chuyển các nodes thành vector số.\n",
    "    # Khi nhận được một truy vấn, nó cũng được chuyển thành vector số.\n",
    "    # Sau đó, quá trình tìm kiếm sẽ dựa trên độ tương đồng giữa các vector.\n",
    "\n",
    "    # Khởi tạo các Query Engines (công cụ truy vấn) từ\n",
    "    # hai đối tượng summary_index và vector_index\n",
    "    summary_query_engine = summary_index.as_query_engine(\n",
    "            response_mode=\"tree_summarize\",\n",
    "            use_async=True,\n",
    "            llm=llm\n",
    "            ) # được dùng để xây dựng công cụ truy vấn cho mục đích tóm tắt.\n",
    "    vector_query_engine = vector_index.as_query_engine(llm=llm)\n",
    "    # công cụ truy vấn liên quan đến xử lý\n",
    "    # hoặc tìm kiếm dữ liệu theo không gian vector\n",
    "\n",
    "    summary_tool = QueryEngineTool.from_defaults(\n",
    "    query_engine=summary_query_engine,\n",
    "    description=(\n",
    "    \"Useful for summarization questions related to Presight web\"\n",
    "    ),\n",
    "    )\n",
    "    vector_tool = QueryEngineTool.from_defaults(\n",
    "        query_engine=vector_query_engine,\n",
    "        description=(\n",
    "        \"Useful for retrieving specific context from the Presight web.\"\n",
    "        ),\n",
    "    )\n",
    "\n",
    "    # Tạo công cụ truy vấn có thể định tuyến các truy vấn đến\n",
    "    # các \"Query Engine Tool\" phù hợp\n",
    "    query_engine = RouterQueryEngine(\n",
    "        selector=LLMSingleSelector.from_defaults(),\n",
    "        query_engine_tools=[\n",
    "        summary_tool,\n",
    "        vector_tool,\n",
    "        ],\n",
    "        verbose=True\n",
    "        )\n",
    "    # Đo thời gian kết thúc\n",
    "    end_time = time.time()\n",
    "    total_time = end_time - start_time\n",
    "    return query_engine, total_time"
   ]
  },
  {
   "cell_type": "code",
   "execution_count": 88,
   "id": "90a01a38",
   "metadata": {},
   "outputs": [
    {
     "name": "stdout",
     "output_type": "stream",
     "text": [
      "\u001b[1;3;38;5;200mSelecting query engine 0: Useful for summarization questions related to Presight web.\n",
      "\u001b[0mAnswer: Presight is an AI-powered data platform that is committed to protecting the privacy of its customers and website visitors. They collect various types of information, including personal data like email addresses, names, phone numbers, and addresses, as well as usage data such as IP addresses and browser information. The collected data is used for purposes like maintaining the service, providing customer support, and improving the platform. Presight ensures data security through encryption methods, regular security audits, and employee training. They do not share personal data with third parties, and they have measures in place to allow users to access and correct their personal information. Additionally, they use cookies on their website and may update their privacy policy periodically.\n",
      "Running time to initialize the query engine: 3.23 seconds\n"
     ]
    }
   ],
   "source": [
    "query_engine, total_time = get_router_query_engine(\"dataset.csv\", llm=llm, embed_model=embed_model)\n",
    "\n",
    "response = query_engine.query(\"summary the presight web\")\n",
    "print(f\"Answer: {str(response)}\")\n",
    "print(f\"Running time to initialize the query engine: {total_time:.2f} seconds\")"
   ]
  },
  {
   "cell_type": "code",
   "execution_count": 77,
   "id": "933b9a7c",
   "metadata": {},
   "outputs": [
    {
     "name": "stdout",
     "output_type": "stream",
     "text": [
      "\u001b[1;3;38;5;200mSelecting query engine 1: Policy is more about retrieving specific context rather than summarization.\n",
      "\u001b[0mAnswer: The policy outlined in the context information pertains to privacy policy, data security, data retention and disposal, quality of data, and monitoring and enforcement practices related to data protection and privacy matters.\n",
      "Running time to initialize the query engine: 4.24 seconds\n"
     ]
    }
   ],
   "source": [
    "response = query_engine.query(\"What is Policy ?\")\n",
    "print(f\"Answer: {str(response)}\")\n",
    "print(f\"Running time to initialize the query engine: {total_time:.2f} seconds\")"
   ]
  },
  {
   "cell_type": "markdown",
   "id": "34d757e4",
   "metadata": {},
   "source": [
    "### Tool calling \n",
    "Define the Auto-Retrival Tool"
   ]
  },
  {
   "cell_type": "code",
   "execution_count": 78,
   "id": "e79be03c",
   "metadata": {},
   "outputs": [],
   "source": [
    "llm = OpenAI(model=\"gpt-3.5-turbo\", api_key= OPENAI_API_KEY)\n",
    "documents = SimpleDirectoryReader(input_files=[\"dataset.csv\"]).load_data()\n",
    "\n",
    "splitter = SentenceSplitter(chunk_size=512)\n",
    "nodes = splitter.get_nodes_from_documents(documents)\n",
    "\n",
    "summary_index = SummaryIndex(nodes)\n",
    "vector_index = VectorStoreIndex(nodes)"
   ]
  },
  {
   "cell_type": "code",
   "execution_count": 79,
   "id": "4cc9643f",
   "metadata": {},
   "outputs": [],
   "source": [
    "def vector_query(\n",
    " query: str,\n",
    " page_numbers: List[str]\n",
    ") -> str:\n",
    "    metadata_dicts = [\n",
    "        {\"key\": \"page_label\", \"value\": p} for p in page_numbers\n",
    "    ]\n",
    "\n",
    "    query_engine = vector_index.as_query_engine(\n",
    "        similarity_top_k=1,\n",
    "        filters=MetadataFilters.from_dicts(\n",
    "            metadata_dicts,\n",
    "            condition=FilterCondition.OR\n",
    "    )\n",
    "    )\n",
    "    response = query_engine.query(query)\n",
    "    return response\n",
    "\n",
    "vector_query_tool = FunctionTool.from_defaults(\n",
    "    name=\"vector_tool\",\n",
    "    fn=vector_query,\n",
    "    description=\"Useful for retrieving specific context from the Presight web.\"\n",
    ")"
   ]
  },
  {
   "cell_type": "code",
   "execution_count": 80,
   "id": "71c0ceab",
   "metadata": {},
   "outputs": [],
   "source": [
    "summary_query_engine = summary_index.as_query_engine(\n",
    "    response_mode=\"tree_summarize\",\n",
    "    use_async=True,\n",
    "    )\n",
    "\n",
    "summary_tool = QueryEngineTool.from_defaults(\n",
    "    name=\"summary_tool\",\n",
    "    query_engine=summary_query_engine,\n",
    "    description=(\n",
    "        \"Useful for summarization questions related to Presight web\"\n",
    "    ),\n",
    ")"
   ]
  },
  {
   "cell_type": "code",
   "execution_count": 81,
   "id": "3bb5b4cd",
   "metadata": {},
   "outputs": [
    {
     "name": "stdout",
     "output_type": "stream",
     "text": [
      "=== Calling Function ===\n",
      "Calling function: summary_tool with args: {\"input\": \"Privacy Policy\"}\n",
      "=== Function Output ===\n",
      "Presight is dedicated to safeguarding the privacy of its customers and website visitors. The Privacy Policy outlines the collection, use, and disclosure of information, including personal data like email addresses, names, phone numbers, and addresses. The company uses collected data for various purposes such as maintaining services, notifying about changes, providing customer support, and improving services. Users are asked to confirm the accuracy of their personal information before submission. Access to personal information is granted to users, who can correct or update their details through the application. Presight employs automated edit checks to ensure data accuracy. Data security measures include encryption, regular security audits, and employee training. Customer data is retained while the account is active and for 60 days after closure. The company emphasizes data quality and relies on data subjects to provide accurate information. Monitoring and enforcement activities ensure compliance with the privacy policy and data protection laws. In case of a data breach, affected parties are notified as required by law. The use of cookies is mentioned, and users can manage cookie settings in their web browsers. The Privacy Policy may be updated periodically, with changes posted on the website. For any inquiries about the Privacy Policy, users can contact Presight through the customer portal or via email.\n"
     ]
    }
   ],
   "source": [
    "response = llm.predict_and_call(\n",
    "    [vector_query_tool, summary_tool],\n",
    "    \"What is PRIVACY POLICY?\",\n",
    "    verbose=True\n",
    ")"
   ]
  },
  {
   "cell_type": "code",
   "execution_count": 82,
   "id": "6714053d",
   "metadata": {},
   "outputs": [
    {
     "name": "stdout",
     "output_type": "stream",
     "text": [
      "=== Calling Function ===\n",
      "Calling function: vector_tool with args: {\"query\": \"PRIVACY POLICY\", \"page_numbers\": [\"2\"]}\n",
      "=== Function Output ===\n",
      "Encountered error: Vector store query result should return at least one of nodes or ids.\n"
     ]
    }
   ],
   "source": [
    "response = llm.predict_and_call(\n",
    "    [vector_query_tool, summary_tool],\n",
    "    \"What is PRIVACY POLICY on page 2?\",\n",
    "    verbose=True\n",
    ")"
   ]
  }
 ],
 "metadata": {
  "kernelspec": {
   "display_name": "chatbot",
   "language": "python",
   "name": "python3"
  },
  "language_info": {
   "codemirror_mode": {
    "name": "ipython",
    "version": 3
   },
   "file_extension": ".py",
   "mimetype": "text/x-python",
   "name": "python",
   "nbconvert_exporter": "python",
   "pygments_lexer": "ipython3",
   "version": "3.11.13"
  }
 },
 "nbformat": 4,
 "nbformat_minor": 5
}
